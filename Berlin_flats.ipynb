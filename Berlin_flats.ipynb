{
 "cells": [
  {
   "cell_type": "markdown",
   "metadata": {
    "colab_type": "text",
    "id": "jHXW5E0kZ38J"
   },
   "source": [
    "![Immoscout](https://raw.githubusercontent.com/juliandnl/redi_ss20/master/image.png)"
   ]
  },
  {
   "cell_type": "markdown",
   "metadata": {
    "colab_type": "text",
    "id": "KAxkfPwXadvb"
   },
   "source": [
    "### Immobilien Scout 24 Dataset \n",
    "It contains entries from rental flats in Berlin. Lets explore the dataset and find a suitable flat for my friend Josy, who is currently, desperately searching for a new flat in Berlin."
   ]
  },
  {
   "cell_type": "markdown",
   "metadata": {
    "colab_type": "text",
    "id": "JM8aJEFXUxQO"
   },
   "source": [
    "### Import Packages"
   ]
  },
  {
   "cell_type": "code",
   "execution_count": 1,
   "metadata": {
    "colab": {},
    "colab_type": "code",
    "id": "lhduQalLT4mA"
   },
   "outputs": [],
   "source": [
    "import pandas as pd\n",
    "import seaborn as sns\n",
    "import matplotlib.pyplot as plt\n",
    "import seaborn as sns\n",
    "sns.set()"
   ]
  },
  {
   "cell_type": "markdown",
   "metadata": {
    "colab_type": "text",
    "id": "c0FRT4TxUwLZ"
   },
   "source": [
    "### Load Dataset"
   ]
  },
  {
   "cell_type": "code",
   "execution_count": 2,
   "metadata": {
    "colab": {
     "base_uri": "https://localhost:8080/",
     "height": 204
    },
    "colab_type": "code",
    "id": "v9cxv3jwUp5Z",
    "outputId": "68b9ce1c-8dc2-4147-c3a3-923b2b619604"
   },
   "outputs": [
    {
     "data": {
      "text/html": [
       "<div>\n",
       "<style scoped>\n",
       "    .dataframe tbody tr th:only-of-type {\n",
       "        vertical-align: middle;\n",
       "    }\n",
       "\n",
       "    .dataframe tbody tr th {\n",
       "        vertical-align: top;\n",
       "    }\n",
       "\n",
       "    .dataframe thead th {\n",
       "        text-align: right;\n",
       "    }\n",
       "</style>\n",
       "<table border=\"1\" class=\"dataframe\">\n",
       "  <thead>\n",
       "    <tr style=\"text-align: right;\">\n",
       "      <th></th>\n",
       "      <th>Region</th>\n",
       "      <th>Condition</th>\n",
       "      <th>Rooms</th>\n",
       "      <th>Rent</th>\n",
       "      <th>Year_Construction</th>\n",
       "      <th>Space</th>\n",
       "    </tr>\n",
       "  </thead>\n",
       "  <tbody>\n",
       "    <tr>\n",
       "      <th>0</th>\n",
       "      <td>Mitte</td>\n",
       "      <td>first_time_use</td>\n",
       "      <td>4.0</td>\n",
       "      <td>2659.00</td>\n",
       "      <td>2019</td>\n",
       "      <td>117.20</td>\n",
       "    </tr>\n",
       "    <tr>\n",
       "      <th>1</th>\n",
       "      <td>Kreuzberg</td>\n",
       "      <td>first_time_use</td>\n",
       "      <td>1.0</td>\n",
       "      <td>1200.00</td>\n",
       "      <td>2020</td>\n",
       "      <td>29.33</td>\n",
       "    </tr>\n",
       "    <tr>\n",
       "      <th>2</th>\n",
       "      <td>Köpenick</td>\n",
       "      <td>well_kept</td>\n",
       "      <td>2.0</td>\n",
       "      <td>979.00</td>\n",
       "      <td>1997</td>\n",
       "      <td>83.61</td>\n",
       "    </tr>\n",
       "    <tr>\n",
       "      <th>3</th>\n",
       "      <td>Wilmersdorf</td>\n",
       "      <td>well_kept</td>\n",
       "      <td>4.0</td>\n",
       "      <td>1830.22</td>\n",
       "      <td>1900</td>\n",
       "      <td>171.18</td>\n",
       "    </tr>\n",
       "    <tr>\n",
       "      <th>4</th>\n",
       "      <td>Kreuzberg</td>\n",
       "      <td>first_time_use</td>\n",
       "      <td>2.0</td>\n",
       "      <td>2272.00</td>\n",
       "      <td>2020</td>\n",
       "      <td>88.27</td>\n",
       "    </tr>\n",
       "  </tbody>\n",
       "</table>\n",
       "</div>"
      ],
      "text/plain": [
       "        Region       Condition  Rooms     Rent  Year_Construction   Space\n",
       "0        Mitte  first_time_use    4.0  2659.00               2019  117.20\n",
       "1    Kreuzberg  first_time_use    1.0  1200.00               2020   29.33\n",
       "2     Köpenick       well_kept    2.0   979.00               1997   83.61\n",
       "3  Wilmersdorf       well_kept    4.0  1830.22               1900  171.18\n",
       "4    Kreuzberg  first_time_use    2.0  2272.00               2020   88.27"
      ]
     },
     "execution_count": 2,
     "metadata": {},
     "output_type": "execute_result"
    }
   ],
   "source": [
    "df = pd.read_csv(\"https://raw.githubusercontent.com/juliandnl/redi_ss20/master/berlin_rental.csv\")\n",
    "df.head()"
   ]
  },
  {
   "cell_type": "code",
   "execution_count": 3,
   "metadata": {
    "colab": {},
    "colab_type": "code",
    "id": "udlvMYZPZ0Wt"
   },
   "outputs": [
    {
     "data": {
      "text/plain": [
       "(764, 6)"
      ]
     },
     "execution_count": 3,
     "metadata": {},
     "output_type": "execute_result"
    }
   ],
   "source": [
    "df.shape"
   ]
  },
  {
   "cell_type": "code",
   "execution_count": 4,
   "metadata": {
    "colab": {},
    "colab_type": "code",
    "id": "zLb8bSjUZ0Z5"
   },
   "outputs": [
    {
     "data": {
      "text/html": [
       "<div>\n",
       "<style scoped>\n",
       "    .dataframe tbody tr th:only-of-type {\n",
       "        vertical-align: middle;\n",
       "    }\n",
       "\n",
       "    .dataframe tbody tr th {\n",
       "        vertical-align: top;\n",
       "    }\n",
       "\n",
       "    .dataframe thead th {\n",
       "        text-align: right;\n",
       "    }\n",
       "</style>\n",
       "<table border=\"1\" class=\"dataframe\">\n",
       "  <thead>\n",
       "    <tr style=\"text-align: right;\">\n",
       "      <th></th>\n",
       "      <th>Rooms</th>\n",
       "      <th>Rent</th>\n",
       "      <th>Year_Construction</th>\n",
       "      <th>Space</th>\n",
       "    </tr>\n",
       "  </thead>\n",
       "  <tbody>\n",
       "    <tr>\n",
       "      <th>count</th>\n",
       "      <td>764.000000</td>\n",
       "      <td>764.000000</td>\n",
       "      <td>764.000000</td>\n",
       "      <td>764.000000</td>\n",
       "    </tr>\n",
       "    <tr>\n",
       "      <th>mean</th>\n",
       "      <td>2.549738</td>\n",
       "      <td>1768.560942</td>\n",
       "      <td>1983.695026</td>\n",
       "      <td>84.656270</td>\n",
       "    </tr>\n",
       "    <tr>\n",
       "      <th>std</th>\n",
       "      <td>1.010826</td>\n",
       "      <td>1118.263961</td>\n",
       "      <td>48.006060</td>\n",
       "      <td>44.195338</td>\n",
       "    </tr>\n",
       "    <tr>\n",
       "      <th>min</th>\n",
       "      <td>1.000000</td>\n",
       "      <td>271.250000</td>\n",
       "      <td>1864.000000</td>\n",
       "      <td>14.000000</td>\n",
       "    </tr>\n",
       "    <tr>\n",
       "      <th>25%</th>\n",
       "      <td>2.000000</td>\n",
       "      <td>1039.500000</td>\n",
       "      <td>1959.000000</td>\n",
       "      <td>55.097500</td>\n",
       "    </tr>\n",
       "    <tr>\n",
       "      <th>50%</th>\n",
       "      <td>2.500000</td>\n",
       "      <td>1565.480000</td>\n",
       "      <td>2015.000000</td>\n",
       "      <td>77.600000</td>\n",
       "    </tr>\n",
       "    <tr>\n",
       "      <th>75%</th>\n",
       "      <td>3.000000</td>\n",
       "      <td>2170.000000</td>\n",
       "      <td>2019.000000</td>\n",
       "      <td>104.450000</td>\n",
       "    </tr>\n",
       "    <tr>\n",
       "      <th>max</th>\n",
       "      <td>7.000000</td>\n",
       "      <td>14207.000000</td>\n",
       "      <td>2020.000000</td>\n",
       "      <td>413.910000</td>\n",
       "    </tr>\n",
       "  </tbody>\n",
       "</table>\n",
       "</div>"
      ],
      "text/plain": [
       "            Rooms          Rent  Year_Construction       Space\n",
       "count  764.000000    764.000000         764.000000  764.000000\n",
       "mean     2.549738   1768.560942        1983.695026   84.656270\n",
       "std      1.010826   1118.263961          48.006060   44.195338\n",
       "min      1.000000    271.250000        1864.000000   14.000000\n",
       "25%      2.000000   1039.500000        1959.000000   55.097500\n",
       "50%      2.500000   1565.480000        2015.000000   77.600000\n",
       "75%      3.000000   2170.000000        2019.000000  104.450000\n",
       "max      7.000000  14207.000000        2020.000000  413.910000"
      ]
     },
     "execution_count": 4,
     "metadata": {},
     "output_type": "execute_result"
    }
   ],
   "source": [
    "df.describe()"
   ]
  },
  {
   "cell_type": "code",
   "execution_count": 5,
   "metadata": {},
   "outputs": [
    {
     "data": {
      "text/plain": [
       "10"
      ]
     },
     "execution_count": 5,
     "metadata": {},
     "output_type": "execute_result"
    }
   ],
   "source": [
    "# Howmany unique regions are there in dataset\n",
    "df.Region.nunique()"
   ]
  },
  {
   "cell_type": "code",
   "execution_count": 6,
   "metadata": {},
   "outputs": [
    {
     "data": {
      "text/plain": [
       "array(['Mitte', 'Kreuzberg', 'Köpenick', 'Wilmersdorf', 'Charlottenburg',\n",
       "       'Friedrichsfelde', 'Tiergarten', 'Prenzlauer', 'Wedding',\n",
       "       'Neukölln'], dtype=object)"
      ]
     },
     "execution_count": 6,
     "metadata": {},
     "output_type": "execute_result"
    }
   ],
   "source": [
    "df.Region.unique()"
   ]
  },
  {
   "cell_type": "code",
   "execution_count": 7,
   "metadata": {},
   "outputs": [
    {
     "data": {
      "text/plain": [
       "413.91"
      ]
     },
     "execution_count": 7,
     "metadata": {},
     "output_type": "execute_result"
    }
   ],
   "source": [
    "df.Space.max()"
   ]
  },
  {
   "cell_type": "code",
   "execution_count": 8,
   "metadata": {},
   "outputs": [
    {
     "data": {
      "text/html": [
       "<div>\n",
       "<style scoped>\n",
       "    .dataframe tbody tr th:only-of-type {\n",
       "        vertical-align: middle;\n",
       "    }\n",
       "\n",
       "    .dataframe tbody tr th {\n",
       "        vertical-align: top;\n",
       "    }\n",
       "\n",
       "    .dataframe thead th {\n",
       "        text-align: right;\n",
       "    }\n",
       "</style>\n",
       "<table border=\"1\" class=\"dataframe\">\n",
       "  <thead>\n",
       "    <tr style=\"text-align: right;\">\n",
       "      <th></th>\n",
       "      <th>Region</th>\n",
       "      <th>Condition</th>\n",
       "      <th>Rooms</th>\n",
       "      <th>Rent</th>\n",
       "      <th>Year_Construction</th>\n",
       "      <th>Space</th>\n",
       "    </tr>\n",
       "  </thead>\n",
       "  <tbody>\n",
       "    <tr>\n",
       "      <th>84</th>\n",
       "      <td>Neukölln</td>\n",
       "      <td>well_kept</td>\n",
       "      <td>1.0</td>\n",
       "      <td>450.0</td>\n",
       "      <td>1910</td>\n",
       "      <td>14.0</td>\n",
       "    </tr>\n",
       "  </tbody>\n",
       "</table>\n",
       "</div>"
      ],
      "text/plain": [
       "      Region  Condition  Rooms   Rent  Year_Construction  Space\n",
       "84  Neukölln  well_kept    1.0  450.0               1910   14.0"
      ]
     },
     "execution_count": 8,
     "metadata": {},
     "output_type": "execute_result"
    }
   ],
   "source": [
    "#what is the smales flat\n",
    "smallst_flat = df[df.Space == df.Space.min()]\n",
    "smallst_flat"
   ]
  },
  {
   "cell_type": "code",
   "execution_count": 9,
   "metadata": {},
   "outputs": [
    {
     "data": {
      "text/html": [
       "<div>\n",
       "<style scoped>\n",
       "    .dataframe tbody tr th:only-of-type {\n",
       "        vertical-align: middle;\n",
       "    }\n",
       "\n",
       "    .dataframe tbody tr th {\n",
       "        vertical-align: top;\n",
       "    }\n",
       "\n",
       "    .dataframe thead th {\n",
       "        text-align: right;\n",
       "    }\n",
       "</style>\n",
       "<table border=\"1\" class=\"dataframe\">\n",
       "  <thead>\n",
       "    <tr style=\"text-align: right;\">\n",
       "      <th></th>\n",
       "      <th>Region</th>\n",
       "      <th>Condition</th>\n",
       "      <th>Rooms</th>\n",
       "      <th>Rent</th>\n",
       "      <th>Year_Construction</th>\n",
       "      <th>Space</th>\n",
       "    </tr>\n",
       "  </thead>\n",
       "  <tbody>\n",
       "    <tr>\n",
       "      <th>694</th>\n",
       "      <td>Mitte</td>\n",
       "      <td>mint_condition</td>\n",
       "      <td>5.0</td>\n",
       "      <td>14207.0</td>\n",
       "      <td>2015</td>\n",
       "      <td>413.91</td>\n",
       "    </tr>\n",
       "  </tbody>\n",
       "</table>\n",
       "</div>"
      ],
      "text/plain": [
       "    Region       Condition  Rooms     Rent  Year_Construction   Space\n",
       "694  Mitte  mint_condition    5.0  14207.0               2015  413.91"
      ]
     },
     "execution_count": 9,
     "metadata": {},
     "output_type": "execute_result"
    }
   ],
   "source": [
    "#what is largest flats\n",
    "largest_flat = df[df.Space == df.Space.max()]\n",
    "largest_flat"
   ]
  },
  {
   "cell_type": "markdown",
   "metadata": {},
   "source": [
    "## What is on average the most expensive region"
   ]
  },
  {
   "cell_type": "code",
   "execution_count": 10,
   "metadata": {
    "colab": {},
    "colab_type": "code",
    "id": "xDTvKiSs6G_n"
   },
   "outputs": [
    {
     "data": {
      "text/plain": [
       "Region\n",
       "Mitte              2408.725033\n",
       "Kreuzberg          2049.138085\n",
       "Prenzlauer         1996.962264\n",
       "Tiergarten         1914.824795\n",
       "Charlottenburg     1753.452532\n",
       "Wilmersdorf        1748.646226\n",
       "Neukölln           1188.114915\n",
       "Köpenick           1125.475818\n",
       "Friedrichsfelde    1043.871731\n",
       "Wedding             847.138571\n",
       "Name: Rent, dtype: float64"
      ]
     },
     "execution_count": 10,
     "metadata": {},
     "output_type": "execute_result"
    }
   ],
   "source": [
    "exp_regions = df.Rent.groupby(df.Region).mean().sort_values(ascending = False)\n",
    "exp_regions"
   ]
  },
  {
   "cell_type": "code",
   "execution_count": 11,
   "metadata": {
    "colab": {},
    "colab_type": "code",
    "id": "aYGd73o46HDW"
   },
   "outputs": [
    {
     "data": {
      "text/plain": [
       "<function matplotlib.pyplot.show(close=None, block=None)>"
      ]
     },
     "execution_count": 11,
     "metadata": {},
     "output_type": "execute_result"
    },
    {
     "data": {
      "image/png": "[encoded data removed]",
      "text/plain": [
       "<Figure size 432x288 with 1 Axes>"
      ]
     },
     "metadata": {},
     "output_type": "display_data"
    }
   ],
   "source": [
    "plt.plot(exp_regions)\n",
    "plt.xlabel('Region')\n",
    "plt.ylabel('Rent')\n",
    "plt.xticks(rotation=45)\n",
    "plt.show"
   ]
  },
  {
   "cell_type": "markdown",
   "metadata": {},
   "source": [
    "## What is on average rent and size of each region categorized by size of place"
   ]
  },
  {
   "cell_type": "code",
   "execution_count": 12,
   "metadata": {},
   "outputs": [
    {
     "data": {
      "text/html": [
       "<div>\n",
       "<style scoped>\n",
       "    .dataframe tbody tr th:only-of-type {\n",
       "        vertical-align: middle;\n",
       "    }\n",
       "\n",
       "    .dataframe tbody tr th {\n",
       "        vertical-align: top;\n",
       "    }\n",
       "\n",
       "    .dataframe thead th {\n",
       "        text-align: right;\n",
       "    }\n",
       "</style>\n",
       "<table border=\"1\" class=\"dataframe\">\n",
       "  <thead>\n",
       "    <tr style=\"text-align: right;\">\n",
       "      <th></th>\n",
       "      <th>Region</th>\n",
       "      <th>Space</th>\n",
       "      <th>Rent</th>\n",
       "    </tr>\n",
       "  </thead>\n",
       "  <tbody>\n",
       "    <tr>\n",
       "      <th>0</th>\n",
       "      <td>Mitte</td>\n",
       "      <td>96.235556</td>\n",
       "      <td>2408.725033</td>\n",
       "    </tr>\n",
       "    <tr>\n",
       "      <th>1</th>\n",
       "      <td>Prenzlauer</td>\n",
       "      <td>95.832264</td>\n",
       "      <td>1996.962264</td>\n",
       "    </tr>\n",
       "    <tr>\n",
       "      <th>2</th>\n",
       "      <td>Kreuzberg</td>\n",
       "      <td>92.258723</td>\n",
       "      <td>2049.138085</td>\n",
       "    </tr>\n",
       "    <tr>\n",
       "      <th>3</th>\n",
       "      <td>Tiergarten</td>\n",
       "      <td>90.228304</td>\n",
       "      <td>1914.824795</td>\n",
       "    </tr>\n",
       "    <tr>\n",
       "      <th>4</th>\n",
       "      <td>Charlottenburg</td>\n",
       "      <td>88.083038</td>\n",
       "      <td>1753.452532</td>\n",
       "    </tr>\n",
       "    <tr>\n",
       "      <th>5</th>\n",
       "      <td>Wilmersdorf</td>\n",
       "      <td>85.536604</td>\n",
       "      <td>1748.646226</td>\n",
       "    </tr>\n",
       "    <tr>\n",
       "      <th>6</th>\n",
       "      <td>Köpenick</td>\n",
       "      <td>74.279273</td>\n",
       "      <td>1125.475818</td>\n",
       "    </tr>\n",
       "    <tr>\n",
       "      <th>7</th>\n",
       "      <td>Neukölln</td>\n",
       "      <td>69.849831</td>\n",
       "      <td>1188.114915</td>\n",
       "    </tr>\n",
       "    <tr>\n",
       "      <th>8</th>\n",
       "      <td>Friedrichsfelde</td>\n",
       "      <td>66.145000</td>\n",
       "      <td>1043.871731</td>\n",
       "    </tr>\n",
       "    <tr>\n",
       "      <th>9</th>\n",
       "      <td>Wedding</td>\n",
       "      <td>46.928571</td>\n",
       "      <td>847.138571</td>\n",
       "    </tr>\n",
       "  </tbody>\n",
       "</table>\n",
       "</div>"
      ],
      "text/plain": [
       "            Region      Space         Rent\n",
       "0            Mitte  96.235556  2408.725033\n",
       "1       Prenzlauer  95.832264  1996.962264\n",
       "2        Kreuzberg  92.258723  2049.138085\n",
       "3       Tiergarten  90.228304  1914.824795\n",
       "4   Charlottenburg  88.083038  1753.452532\n",
       "5      Wilmersdorf  85.536604  1748.646226\n",
       "6         Köpenick  74.279273  1125.475818\n",
       "7         Neukölln  69.849831  1188.114915\n",
       "8  Friedrichsfelde  66.145000  1043.871731\n",
       "9          Wedding  46.928571   847.138571"
      ]
     },
     "execution_count": 12,
     "metadata": {},
     "output_type": "execute_result"
    }
   ],
   "source": [
    "cols = ['Space','Rent']\n",
    "largest_regions = df.groupby('Region')[cols].mean().sort_values(by ='Space',ascending = False)\n",
    "largest_regions = largest_regions.reset_index()\n",
    "largest_regions"
   ]
  },
  {
   "cell_type": "code",
   "execution_count": 13,
   "metadata": {},
   "outputs": [],
   "source": [
    "import sys\n",
    "\n",
    "if not sys.warnoptions:\n",
    "    import warnings\n",
    "    warnings.simplefilter(\"ignore\")"
   ]
  },
  {
   "cell_type": "code",
   "execution_count": 14,
   "metadata": {},
   "outputs": [
    {
     "data": {
      "text/plain": [
       "<seaborn.axisgrid.FacetGrid at 0x29feef03a30>"
      ]
     },
     "execution_count": 14,
     "metadata": {},
     "output_type": "execute_result"
    },
    {
     "data": {
      "image/png": "[encoded data removed]",
      "text/plain": [
       "<Figure size 544.975x432 with 1 Axes>"
      ]
     },
     "metadata": {},
     "output_type": "display_data"
    }
   ],
   "source": [
    "sns.relplot(x = 'Rent', y='Space', hue = 'Region', size=\"Space\",\n",
    "            sizes=(40, 400), alpha=.5, palette=\"muted\", height=6,data =largest_regions )"
   ]
  },
  {
   "cell_type": "markdown",
   "metadata": {},
   "source": [
    "## What is the average number of rooms and size of each region categorized by the number of rooms."
   ]
  },
  {
   "cell_type": "code",
   "execution_count": 15,
   "metadata": {},
   "outputs": [
    {
     "data": {
      "text/html": [
       "<div>\n",
       "<style scoped>\n",
       "    .dataframe tbody tr th:only-of-type {\n",
       "        vertical-align: middle;\n",
       "    }\n",
       "\n",
       "    .dataframe tbody tr th {\n",
       "        vertical-align: top;\n",
       "    }\n",
       "\n",
       "    .dataframe thead th {\n",
       "        text-align: right;\n",
       "    }\n",
       "</style>\n",
       "<table border=\"1\" class=\"dataframe\">\n",
       "  <thead>\n",
       "    <tr style=\"text-align: right;\">\n",
       "      <th></th>\n",
       "      <th>Region</th>\n",
       "      <th>Space</th>\n",
       "      <th>Rooms</th>\n",
       "    </tr>\n",
       "  </thead>\n",
       "  <tbody>\n",
       "    <tr>\n",
       "      <th>0</th>\n",
       "      <td>Mitte</td>\n",
       "      <td>96.235556</td>\n",
       "      <td>2.754902</td>\n",
       "    </tr>\n",
       "    <tr>\n",
       "      <th>1</th>\n",
       "      <td>Tiergarten</td>\n",
       "      <td>90.228304</td>\n",
       "      <td>2.736842</td>\n",
       "    </tr>\n",
       "    <tr>\n",
       "      <th>2</th>\n",
       "      <td>Prenzlauer</td>\n",
       "      <td>95.832264</td>\n",
       "      <td>2.660377</td>\n",
       "    </tr>\n",
       "    <tr>\n",
       "      <th>3</th>\n",
       "      <td>Wilmersdorf</td>\n",
       "      <td>85.536604</td>\n",
       "      <td>2.613208</td>\n",
       "    </tr>\n",
       "    <tr>\n",
       "      <th>4</th>\n",
       "      <td>Charlottenburg</td>\n",
       "      <td>88.083038</td>\n",
       "      <td>2.525316</td>\n",
       "    </tr>\n",
       "    <tr>\n",
       "      <th>5</th>\n",
       "      <td>Friedrichsfelde</td>\n",
       "      <td>66.145000</td>\n",
       "      <td>2.500000</td>\n",
       "    </tr>\n",
       "    <tr>\n",
       "      <th>6</th>\n",
       "      <td>Kreuzberg</td>\n",
       "      <td>92.258723</td>\n",
       "      <td>2.489362</td>\n",
       "    </tr>\n",
       "    <tr>\n",
       "      <th>7</th>\n",
       "      <td>Köpenick</td>\n",
       "      <td>74.279273</td>\n",
       "      <td>2.281818</td>\n",
       "    </tr>\n",
       "    <tr>\n",
       "      <th>8</th>\n",
       "      <td>Neukölln</td>\n",
       "      <td>69.849831</td>\n",
       "      <td>2.279661</td>\n",
       "    </tr>\n",
       "    <tr>\n",
       "      <th>9</th>\n",
       "      <td>Wedding</td>\n",
       "      <td>46.928571</td>\n",
       "      <td>1.726190</td>\n",
       "    </tr>\n",
       "  </tbody>\n",
       "</table>\n",
       "</div>"
      ],
      "text/plain": [
       "            Region      Space     Rooms\n",
       "0            Mitte  96.235556  2.754902\n",
       "1       Tiergarten  90.228304  2.736842\n",
       "2       Prenzlauer  95.832264  2.660377\n",
       "3      Wilmersdorf  85.536604  2.613208\n",
       "4   Charlottenburg  88.083038  2.525316\n",
       "5  Friedrichsfelde  66.145000  2.500000\n",
       "6        Kreuzberg  92.258723  2.489362\n",
       "7         Köpenick  74.279273  2.281818\n",
       "8         Neukölln  69.849831  2.279661\n",
       "9          Wedding  46.928571  1.726190"
      ]
     },
     "execution_count": 15,
     "metadata": {},
     "output_type": "execute_result"
    }
   ],
   "source": [
    "cols_ = ['Space','Rooms']\n",
    "rooms_space_regions = df.groupby('Region')[cols_].mean().sort_values(by ='Rooms',ascending = False)\n",
    "rooms_space_regions = rooms_space_regions.reset_index()\n",
    "rooms_space_regions"
   ]
  },
  {
   "cell_type": "code",
   "execution_count": 16,
   "metadata": {},
   "outputs": [
    {
     "data": {
      "text/plain": [
       "<seaborn.axisgrid.FacetGrid at 0x29fef01ce80>"
      ]
     },
     "execution_count": 16,
     "metadata": {},
     "output_type": "execute_result"
    },
    {
     "data": {
      "image/png": "[encoded data removed]",
      "text/plain": [
       "<Figure size 544.975x432 with 1 Axes>"
      ]
     },
     "metadata": {},
     "output_type": "display_data"
    }
   ],
   "source": [
    "sns.relplot(x = 'Space', y='Rooms', hue = 'Region', size=\"Rooms\",\n",
    "            sizes=(40, 400), alpha=.5, palette=\"muted\", height=6,data =rooms_space_regions )"
   ]
  },
  {
   "cell_type": "markdown",
   "metadata": {},
   "source": [
    "## Which region has the best price per square meter? The cheapest square meter price?"
   ]
  },
  {
   "cell_type": "code",
   "execution_count": 21,
   "metadata": {
    "colab": {},
    "colab_type": "code",
    "id": "-Qr-jO--6GkB"
   },
   "outputs": [
    {
     "data": {
      "text/html": [
       "<div>\n",
       "<style scoped>\n",
       "    .dataframe tbody tr th:only-of-type {\n",
       "        vertical-align: middle;\n",
       "    }\n",
       "\n",
       "    .dataframe tbody tr th {\n",
       "        vertical-align: top;\n",
       "    }\n",
       "\n",
       "    .dataframe thead th {\n",
       "        text-align: right;\n",
       "    }\n",
       "</style>\n",
       "<table border=\"1\" class=\"dataframe\">\n",
       "  <thead>\n",
       "    <tr style=\"text-align: right;\">\n",
       "      <th></th>\n",
       "      <th>Region</th>\n",
       "      <th>Rent</th>\n",
       "      <th>Space</th>\n",
       "      <th>sq/price</th>\n",
       "    </tr>\n",
       "  </thead>\n",
       "  <tbody>\n",
       "    <tr>\n",
       "      <th>2</th>\n",
       "      <td>Köpenick</td>\n",
       "      <td>1125.475818</td>\n",
       "      <td>74.279273</td>\n",
       "      <td>15.151950</td>\n",
       "    </tr>\n",
       "    <tr>\n",
       "      <th>1</th>\n",
       "      <td>Friedrichsfelde</td>\n",
       "      <td>1043.871731</td>\n",
       "      <td>66.145000</td>\n",
       "      <td>15.781567</td>\n",
       "    </tr>\n",
       "    <tr>\n",
       "      <th>3</th>\n",
       "      <td>Neukölln</td>\n",
       "      <td>1188.114915</td>\n",
       "      <td>69.849831</td>\n",
       "      <td>17.009560</td>\n",
       "    </tr>\n",
       "    <tr>\n",
       "      <th>0</th>\n",
       "      <td>Wedding</td>\n",
       "      <td>847.138571</td>\n",
       "      <td>46.928571</td>\n",
       "      <td>18.051659</td>\n",
       "    </tr>\n",
       "    <tr>\n",
       "      <th>5</th>\n",
       "      <td>Charlottenburg</td>\n",
       "      <td>1753.452532</td>\n",
       "      <td>88.083038</td>\n",
       "      <td>19.906813</td>\n",
       "    </tr>\n",
       "    <tr>\n",
       "      <th>4</th>\n",
       "      <td>Wilmersdorf</td>\n",
       "      <td>1748.646226</td>\n",
       "      <td>85.536604</td>\n",
       "      <td>20.443251</td>\n",
       "    </tr>\n",
       "    <tr>\n",
       "      <th>7</th>\n",
       "      <td>Prenzlauer</td>\n",
       "      <td>1996.962264</td>\n",
       "      <td>95.832264</td>\n",
       "      <td>20.838100</td>\n",
       "    </tr>\n",
       "    <tr>\n",
       "      <th>6</th>\n",
       "      <td>Tiergarten</td>\n",
       "      <td>1914.824795</td>\n",
       "      <td>90.228304</td>\n",
       "      <td>21.221997</td>\n",
       "    </tr>\n",
       "    <tr>\n",
       "      <th>8</th>\n",
       "      <td>Kreuzberg</td>\n",
       "      <td>2049.138085</td>\n",
       "      <td>92.258723</td>\n",
       "      <td>22.210779</td>\n",
       "    </tr>\n",
       "    <tr>\n",
       "      <th>9</th>\n",
       "      <td>Mitte</td>\n",
       "      <td>2408.725033</td>\n",
       "      <td>96.235556</td>\n",
       "      <td>25.029471</td>\n",
       "    </tr>\n",
       "  </tbody>\n",
       "</table>\n",
       "</div>"
      ],
      "text/plain": [
       "            Region         Rent      Space   sq/price\n",
       "2         Köpenick  1125.475818  74.279273  15.151950\n",
       "1  Friedrichsfelde  1043.871731  66.145000  15.781567\n",
       "3         Neukölln  1188.114915  69.849831  17.009560\n",
       "0          Wedding   847.138571  46.928571  18.051659\n",
       "5   Charlottenburg  1753.452532  88.083038  19.906813\n",
       "4      Wilmersdorf  1748.646226  85.536604  20.443251\n",
       "7       Prenzlauer  1996.962264  95.832264  20.838100\n",
       "6       Tiergarten  1914.824795  90.228304  21.221997\n",
       "8        Kreuzberg  2049.138085  92.258723  22.210779\n",
       "9            Mitte  2408.725033  96.235556  25.029471"
      ]
     },
     "execution_count": 21,
     "metadata": {},
     "output_type": "execute_result"
    }
   ],
   "source": [
    "best_price = df.groupby('Region')[['Rent','Space']].mean().sort_values(by ='Rent',ascending = True).reset_index()\n",
    "best_price['sq/price'] = best_price['Rent'] / best_price['Space']\n",
    "best_price.sort_values(by = 'sq/price')"
   ]
  },
  {
   "cell_type": "markdown",
   "metadata": {},
   "source": [
    "### According to te latest table we can see Köpenick is the cheapest Region according to average rent / space"
   ]
  },
  {
   "cell_type": "markdown",
   "metadata": {},
   "source": [
    "## Which region has on average the oldest buildings?"
   ]
  },
  {
   "cell_type": "code",
   "execution_count": 185,
   "metadata": {},
   "outputs": [
    {
     "data": {
      "text/plain": [
       "Region\n",
       "Prenzlauer         1957.150943\n",
       "Neukölln           1963.525424\n",
       "Wilmersdorf        1966.245283\n",
       "Charlottenburg     1969.987342\n",
       "Wedding            1977.214286\n",
       "Kreuzberg          1977.872340\n",
       "Köpenick           1983.109091\n",
       "Tiergarten         1992.859649\n",
       "Mitte              2000.921569\n",
       "Friedrichsfelde    2002.538462\n",
       "Name: Year_Construction, dtype: float64"
      ]
     },
     "execution_count": 185,
     "metadata": {},
     "output_type": "execute_result"
    }
   ],
   "source": [
    "oldest = df.groupby('Region')['Year_Construction'].mean().sort_values(ascending = True)\n",
    "oldest"
   ]
  },
  {
   "cell_type": "markdown",
   "metadata": {},
   "source": [
    "### Prenzlauer has the oldest apartements in Berlin "
   ]
  },
  {
   "cell_type": "markdown",
   "metadata": {},
   "source": [
    "## Which region has the best \"in shape\" flats to offer?"
   ]
  },
  {
   "cell_type": "code",
   "execution_count": 22,
   "metadata": {},
   "outputs": [
    {
     "data": {
      "text/plain": [
       "array(['no_information', 'need_of_renovation', 'well_kept', 'modernized',\n",
       "       'fully_renovated', 'first_time_use_after_refurbishment',\n",
       "       'mint_condition', 'first_time_use', 'refurbished'], dtype=object)"
      ]
     },
     "execution_count": 22,
     "metadata": {},
     "output_type": "execute_result"
    }
   ],
   "source": [
    "df.Condition.unique()"
   ]
  },
  {
   "cell_type": "code",
   "execution_count": 36,
   "metadata": {},
   "outputs": [],
   "source": [
    "# I considered these conditions as in shape condition!\n",
    "inshape_cases = ['first_time_use', 'well_kept','fully_renovated', 'first_time_use_after_refurbishment','modernized','mint_condition']\n",
    "def inshape(item):\n",
    "    if item in inshape_cases:\n",
    "        return True\n",
    "    else:\n",
    "        return False"
   ]
  },
  {
   "cell_type": "code",
   "execution_count": 37,
   "metadata": {},
   "outputs": [
    {
     "data": {
      "text/html": [
       "<div>\n",
       "<style scoped>\n",
       "    .dataframe tbody tr th:only-of-type {\n",
       "        vertical-align: middle;\n",
       "    }\n",
       "\n",
       "    .dataframe tbody tr th {\n",
       "        vertical-align: top;\n",
       "    }\n",
       "\n",
       "    .dataframe thead th {\n",
       "        text-align: right;\n",
       "    }\n",
       "</style>\n",
       "<table border=\"1\" class=\"dataframe\">\n",
       "  <thead>\n",
       "    <tr style=\"text-align: right;\">\n",
       "      <th></th>\n",
       "      <th>Region</th>\n",
       "      <th>Condition</th>\n",
       "      <th>Rooms</th>\n",
       "      <th>Rent</th>\n",
       "      <th>Year_Construction</th>\n",
       "      <th>Space</th>\n",
       "      <th>sq/price</th>\n",
       "      <th>in shape</th>\n",
       "    </tr>\n",
       "  </thead>\n",
       "  <tbody>\n",
       "    <tr>\n",
       "      <th>540</th>\n",
       "      <td>Friedrichsfelde</td>\n",
       "      <td>no_information</td>\n",
       "      <td>3.0</td>\n",
       "      <td>575.45</td>\n",
       "      <td>1970</td>\n",
       "      <td>73.50</td>\n",
       "      <td>7.829252</td>\n",
       "      <td>False</td>\n",
       "    </tr>\n",
       "    <tr>\n",
       "      <th>97</th>\n",
       "      <td>Wedding</td>\n",
       "      <td>no_information</td>\n",
       "      <td>2.0</td>\n",
       "      <td>383.46</td>\n",
       "      <td>1890</td>\n",
       "      <td>48.23</td>\n",
       "      <td>7.950653</td>\n",
       "      <td>False</td>\n",
       "    </tr>\n",
       "    <tr>\n",
       "      <th>313</th>\n",
       "      <td>Tiergarten</td>\n",
       "      <td>no_information</td>\n",
       "      <td>2.0</td>\n",
       "      <td>547.90</td>\n",
       "      <td>1900</td>\n",
       "      <td>63.00</td>\n",
       "      <td>8.696825</td>\n",
       "      <td>False</td>\n",
       "    </tr>\n",
       "    <tr>\n",
       "      <th>182</th>\n",
       "      <td>Wedding</td>\n",
       "      <td>need_of_renovation</td>\n",
       "      <td>3.0</td>\n",
       "      <td>670.86</td>\n",
       "      <td>1970</td>\n",
       "      <td>76.00</td>\n",
       "      <td>8.827105</td>\n",
       "      <td>False</td>\n",
       "    </tr>\n",
       "    <tr>\n",
       "      <th>274</th>\n",
       "      <td>Neukölln</td>\n",
       "      <td>well_kept</td>\n",
       "      <td>3.0</td>\n",
       "      <td>565.63</td>\n",
       "      <td>1900</td>\n",
       "      <td>64.00</td>\n",
       "      <td>8.837969</td>\n",
       "      <td>True</td>\n",
       "    </tr>\n",
       "  </tbody>\n",
       "</table>\n",
       "</div>"
      ],
      "text/plain": [
       "              Region           Condition  Rooms    Rent  Year_Construction  \\\n",
       "540  Friedrichsfelde      no_information    3.0  575.45               1970   \n",
       "97           Wedding      no_information    2.0  383.46               1890   \n",
       "313       Tiergarten      no_information    2.0  547.90               1900   \n",
       "182          Wedding  need_of_renovation    3.0  670.86               1970   \n",
       "274         Neukölln           well_kept    3.0  565.63               1900   \n",
       "\n",
       "     Space  sq/price  in shape  \n",
       "540  73.50  7.829252     False  \n",
       "97   48.23  7.950653     False  \n",
       "313  63.00  8.696825     False  \n",
       "182  76.00  8.827105     False  \n",
       "274  64.00  8.837969      True  "
      ]
     },
     "execution_count": 37,
     "metadata": {},
     "output_type": "execute_result"
    }
   ],
   "source": [
    "df['in shape'] = df['Condition'].apply(lambda x: inshape(x))\n",
    "df.head()"
   ]
  },
  {
   "cell_type": "code",
   "execution_count": 38,
   "metadata": {},
   "outputs": [
    {
     "data": {
      "text/plain": [
       "Region\n",
       "Tiergarten         171\n",
       "Mitte              153\n",
       "Charlottenburg      79\n",
       "Neukölln            59\n",
       "Köpenick            55\n",
       "Prenzlauer          53\n",
       "Wilmersdorf         53\n",
       "Friedrichsfelde     52\n",
       "Kreuzberg           47\n",
       "Wedding             42\n",
       "Name: in shape, dtype: int64"
      ]
     },
     "execution_count": 38,
     "metadata": {},
     "output_type": "execute_result"
    }
   ],
   "source": [
    "in_shape_group= df.groupby('Region')['in shape'].count().sort_values(ascending = False)\n",
    "in_shape_group"
   ]
  },
  {
   "cell_type": "markdown",
   "metadata": {},
   "source": [
    "## Tiergarten & Mitte has more in shape cases"
   ]
  },
  {
   "cell_type": "markdown",
   "metadata": {},
   "source": [
    "## Question : Does the shape have an influence on the price per square meter?"
   ]
  },
  {
   "cell_type": "code",
   "execution_count": 39,
   "metadata": {},
   "outputs": [
    {
     "data": {
      "text/plain": [
       "Condition\n",
       "refurbished                           26.445485\n",
       "mint_condition                        25.134925\n",
       "first_time_use                        22.966016\n",
       "no_information                        19.742599\n",
       "first_time_use_after_refurbishment    19.334931\n",
       "fully_renovated                       19.207692\n",
       "modernized                            15.952482\n",
       "well_kept                             15.521736\n",
       "need_of_renovation                    11.073803\n",
       "Name: sq/price, dtype: float64"
      ]
     },
     "execution_count": 39,
     "metadata": {},
     "output_type": "execute_result"
    }
   ],
   "source": [
    "shape_pps = df.groupby('Condition')['sq/price'].mean().sort_values( ascending = False)\n",
    "shape_pps"
   ]
  },
  {
   "cell_type": "markdown",
   "metadata": {},
   "source": [
    "### I expected the first time use condition houses to be in the first category but there are more parameters that can affect the price / sqm"
   ]
  },
  {
   "cell_type": "markdown",
   "metadata": {
    "colab_type": "text",
    "id": "UQxoVu9RWk7C"
   },
   "source": [
    "### Plot\n",
    "Plotting with pandas. Need some help?\n",
    "- https://pandas.pydata.org/pandas-docs/stable/user_guide/visualization.html\n",
    "\n",
    "---  \n",
    "Exercise\n",
    "1. Explore the distribution of the rent\n",
    "2. What is the relationship between the construction year and the rent?\n"
   ]
  },
  {
   "cell_type": "markdown",
   "metadata": {},
   "source": [
    "## Explore the distribution of the rent"
   ]
  },
  {
   "cell_type": "code",
   "execution_count": 47,
   "metadata": {
    "colab": {},
    "colab_type": "code",
    "id": "Z38IhcleZxfU"
   },
   "outputs": [
    {
     "data": {
      "text/plain": [
       "<seaborn.axisgrid.FacetGrid at 0x29fefd162b0>"
      ]
     },
     "execution_count": 47,
     "metadata": {},
     "output_type": "execute_result"
    },
    {
     "data": {
      "text/plain": [
       "<Figure size 1152x432 with 0 Axes>"
      ]
     },
     "metadata": {},
     "output_type": "display_data"
    },
    {
     "data": {
      "image/png": "[encoded data removed]",
      "text/plain": [
       "<Figure size 360x360 with 1 Axes>"
      ]
     },
     "metadata": {},
     "output_type": "display_data"
    }
   ],
   "source": [
    "plt.figure(figsize=(16, 6))\n",
    "sns.displot(df, x = 'Rent')"
   ]
  },
  {
   "cell_type": "markdown",
   "metadata": {
    "colab": {},
    "colab_type": "code",
    "id": "z7K_oerrZxnw"
   },
   "source": [
    "## What is the relationship between the construction year and the rent?"
   ]
  },
  {
   "cell_type": "code",
   "execution_count": 72,
   "metadata": {},
   "outputs": [
    {
     "data": {
      "text/plain": [
       "<seaborn.axisgrid.JointGrid at 0x29ff839b2b0>"
      ]
     },
     "execution_count": 72,
     "metadata": {},
     "output_type": "execute_result"
    },
    {
     "data": {
      "image/png": "[encoded data removed]",
      "text/plain": [
       "<Figure size 432x432 with 3 Axes>"
      ]
     },
     "metadata": {},
     "output_type": "display_data"
    }
   ],
   "source": [
    "year_rent = df.groupby('Year_Construction')['Rent'].mean().reset_index()\n",
    "sns.jointplot(x='Rent', y = 'Year_Construction', data= year_rent)"
   ]
  },
  {
   "cell_type": "markdown",
   "metadata": {},
   "source": [
    "### It seems there is not relation ship!!!!"
   ]
  },
  {
   "cell_type": "markdown",
   "metadata": {
    "colab_type": "text",
    "id": "ENwCT7XBWumX"
   },
   "source": [
    "### Find a good flat!\n",
    "My friend Josy is looking for a flat. She is still a student and cannot afford an expensive flat. Are there flats with a rent less than 500€ and more than 25 sqm (Space). She would like to move to Kreuzberg, Wedding, Prenzlauer Berg or Mitte. Any flats available for her? Is there a flat with two rooms and these constraints?"
   ]
  },
  {
   "cell_type": "code",
   "execution_count": 84,
   "metadata": {
    "colab": {},
    "colab_type": "code",
    "id": "WzbLA8mhbeee"
   },
   "outputs": [
    {
     "data": {
      "text/html": [
       "<div>\n",
       "<style scoped>\n",
       "    .dataframe tbody tr th:only-of-type {\n",
       "        vertical-align: middle;\n",
       "    }\n",
       "\n",
       "    .dataframe tbody tr th {\n",
       "        vertical-align: top;\n",
       "    }\n",
       "\n",
       "    .dataframe thead th {\n",
       "        text-align: right;\n",
       "    }\n",
       "</style>\n",
       "<table border=\"1\" class=\"dataframe\">\n",
       "  <thead>\n",
       "    <tr style=\"text-align: right;\">\n",
       "      <th></th>\n",
       "      <th>Region</th>\n",
       "      <th>Condition</th>\n",
       "      <th>Rooms</th>\n",
       "      <th>Rent</th>\n",
       "      <th>Year_Construction</th>\n",
       "      <th>Space</th>\n",
       "      <th>sq/price</th>\n",
       "      <th>in shape</th>\n",
       "    </tr>\n",
       "  </thead>\n",
       "  <tbody>\n",
       "    <tr>\n",
       "      <th>97</th>\n",
       "      <td>Wedding</td>\n",
       "      <td>no_information</td>\n",
       "      <td>2.0</td>\n",
       "      <td>383.46</td>\n",
       "      <td>1890</td>\n",
       "      <td>48.23</td>\n",
       "      <td>7.950653</td>\n",
       "      <td>False</td>\n",
       "    </tr>\n",
       "    <tr>\n",
       "      <th>152</th>\n",
       "      <td>Wedding</td>\n",
       "      <td>no_information</td>\n",
       "      <td>1.0</td>\n",
       "      <td>440.94</td>\n",
       "      <td>1983</td>\n",
       "      <td>41.45</td>\n",
       "      <td>10.637877</td>\n",
       "      <td>False</td>\n",
       "    </tr>\n",
       "    <tr>\n",
       "      <th>278</th>\n",
       "      <td>Wedding</td>\n",
       "      <td>no_information</td>\n",
       "      <td>1.0</td>\n",
       "      <td>352.95</td>\n",
       "      <td>1910</td>\n",
       "      <td>32.00</td>\n",
       "      <td>11.029687</td>\n",
       "      <td>False</td>\n",
       "    </tr>\n",
       "    <tr>\n",
       "      <th>239</th>\n",
       "      <td>Kreuzberg</td>\n",
       "      <td>well_kept</td>\n",
       "      <td>1.0</td>\n",
       "      <td>435.74</td>\n",
       "      <td>1966</td>\n",
       "      <td>38.00</td>\n",
       "      <td>11.466842</td>\n",
       "      <td>True</td>\n",
       "    </tr>\n",
       "    <tr>\n",
       "      <th>397</th>\n",
       "      <td>Wedding</td>\n",
       "      <td>well_kept</td>\n",
       "      <td>1.0</td>\n",
       "      <td>427.00</td>\n",
       "      <td>1956</td>\n",
       "      <td>37.16</td>\n",
       "      <td>11.490850</td>\n",
       "      <td>True</td>\n",
       "    </tr>\n",
       "    <tr>\n",
       "      <th>178</th>\n",
       "      <td>Wedding</td>\n",
       "      <td>need_of_renovation</td>\n",
       "      <td>1.0</td>\n",
       "      <td>458.91</td>\n",
       "      <td>1900</td>\n",
       "      <td>39.00</td>\n",
       "      <td>11.766923</td>\n",
       "      <td>False</td>\n",
       "    </tr>\n",
       "  </tbody>\n",
       "</table>\n",
       "</div>"
      ],
      "text/plain": [
       "        Region           Condition  Rooms    Rent  Year_Construction  Space  \\\n",
       "97     Wedding      no_information    2.0  383.46               1890  48.23   \n",
       "152    Wedding      no_information    1.0  440.94               1983  41.45   \n",
       "278    Wedding      no_information    1.0  352.95               1910  32.00   \n",
       "239  Kreuzberg           well_kept    1.0  435.74               1966  38.00   \n",
       "397    Wedding           well_kept    1.0  427.00               1956  37.16   \n",
       "178    Wedding  need_of_renovation    1.0  458.91               1900  39.00   \n",
       "\n",
       "      sq/price  in shape  \n",
       "97    7.950653     False  \n",
       "152  10.637877     False  \n",
       "278  11.029687     False  \n",
       "239  11.466842      True  \n",
       "397  11.490850      True  \n",
       "178  11.766923     False  "
      ]
     },
     "execution_count": 84,
     "metadata": {},
     "output_type": "execute_result"
    }
   ],
   "source": [
    "good_flat = df[(df['Rent']<=500) & (df['Space'] >=25) & ((df['Region'] == 'Kreuzberg') | (df['Region'] =='Wedding') |(df['Region']=='Prenzlauer') | (df['Region'] == 'Mitte'))]\n",
    "good_flat"
   ]
  }
 ],
 "metadata": {
  "colab": {
   "collapsed_sections": [],
   "name": "Berlin_flats.ipynb",
   "provenance": []
  },
  "kernelspec": {
   "display_name": "Python 3",
   "language": "python",
   "name": "python3"
  },
  "language_info": {
   "codemirror_mode": {
    "name": "ipython",
    "version": 3
   },
   "file_extension": ".py",
   "mimetype": "text/x-python",
   "name": "python",
   "nbconvert_exporter": "python",
   "pygments_lexer": "ipython3",
   "version": "3.8.10"
  }
 },
 "nbformat": 4,
 "nbformat_minor": 4
}
